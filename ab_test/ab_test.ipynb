{
 "cells": [
  {
   "attachments": {},
   "cell_type": "markdown",
   "metadata": {},
   "source": [
    "# Проверка гипотез по увеличению выручки в интернет-магазине"
   ]
  },
  {
   "cell_type": "markdown",
   "metadata": {},
   "source": [
    "## Описание проекта\n",
    "\n",
    "### Данные:\n",
    "- данные о гипотезах и их оценки по охвату, влиянию на пользователей, уверенности в гипотезе и по затратам ресурсов по 10-балльной шкале, \n",
    "- данные о заказах и посетителях интернет-магазина.\n",
    "\n",
    "\n",
    "### Цели и задачи:\n",
    "Необходимо выполнить приоритизацию гипотез и проанализировать результаты A/B-теста.\n"
   ]
  },
  {
   "cell_type": "markdown",
   "metadata": {},
   "source": [
    "## [Часть 1.  Приоритизация гипотез](#1)\n",
    "<a id=\"content_1\">Содержание:</a>\n",
    "1. [Предобработка данных](#preprocessing)\n",
    "2. [Использование фреймворка ICE](#ICE)\n",
    "3. [Использование фреймворка RICE](#ICE)\n",
    "4. [Вывод](#conclusion)"
   ]
  },
  {
   "cell_type": "markdown",
   "metadata": {},
   "source": [
    "## [Часть 2.  Анализ A/B-теста](#2)\n",
    "<a id=\"content_2\">Содержание:</a>\n",
    "1. [Предобработка данных](#preprocessing_2)\n",
    "2. [График кумулятивной выручки по группам](#cumulative_revenue)\n",
    "3. [График кумулятивного среднего чека по группам](#cumulative_revenue_by_orders)\n",
    "4. [График относительного изменения кумулятивного среднего чека группы B к группе A](#cumulative_revenue_by_orders_BA)\n",
    "5. [График кумулятивной конверсии по группам](#cumulative_conversion)\n",
    "6. [График относительного изменения кумулятивной конверсии группы B к группе A](#cumulative_conversion_BA)\n",
    "7. [Точечный график количества заказов по пользователям](#scatter_orders)\n",
    "8. [95-й и 99-й перцентили количества заказов на пользователя](#percentile_orders)\n",
    "9. [Точечный график стоимостей заказов](#scatter_revenue)\n",
    "10. [95-й и 99-й перцентили стоимости заказов](#percentile_revenue)\n",
    "11. [Статистическая значимость различий в конверсии между группами по «сырым» данным](#stat_conversion)\n",
    "12. [Статистическая значимость различий в среднем чеке заказа между группами по «сырым» данным](#stat_revenue)\n",
    "13. [Статистическая значимость различий в конверсии между группами по «очищенным» данным](#stat_conversion_clean)\n",
    "14. [Статистическая значимость различий в среднем чеке заказа между группами по «очищенным» данным](#stat_revenue_clean)\n",
    "15. [Вывод](#conclusion_2)"
   ]
  },
  {
   "cell_type": "code",
   "execution_count": 1,
   "metadata": {
    "ExecuteTime": {
     "end_time": "2020-11-20T07:52:30.185604Z",
     "start_time": "2020-11-20T07:52:30.180993Z"
    }
   },
   "outputs": [],
   "source": [
    "import pandas as pd\n",
    "import numpy as np\n",
    "from matplotlib import pyplot as plt\n",
    "import scipy.stats as stats\n",
    "import datetime as dt"
   ]
  },
  {
   "cell_type": "markdown",
   "metadata": {},
   "source": [
    "## <a id=\"1\">Часть 1.  Приоритизация гипотез</a>"
   ]
  },
  {
   "cell_type": "markdown",
   "metadata": {},
   "source": [
    "### <a id=\"preprocessing\">1. Предобработка данных</a>\n",
    "[Вернуться к оглавлению](#content_1)"
   ]
  },
  {
   "cell_type": "code",
   "execution_count": 2,
   "metadata": {
    "ExecuteTime": {
     "end_time": "2020-11-20T07:52:30.206817Z",
     "start_time": "2020-11-20T07:52:30.195383Z"
    }
   },
   "outputs": [],
   "source": [
    "#читаем данные\n",
    "hypothesis_data = pd.read_csv('C:/Users/liana/datasets/hypothesis.csv', sep = ',')"
   ]
  },
  {
   "cell_type": "code",
   "execution_count": 3,
   "metadata": {
    "ExecuteTime": {
     "end_time": "2020-11-20T07:52:30.215620Z",
     "start_time": "2020-11-20T07:52:30.210267Z"
    }
   },
   "outputs": [],
   "source": [
    "#меняем заголовки\n",
    "hypothesis_data.columns = hypothesis_data.columns.str.lower()"
   ]
  },
  {
   "cell_type": "code",
   "execution_count": 4,
   "metadata": {
    "ExecuteTime": {
     "end_time": "2020-11-20T07:52:30.243695Z",
     "start_time": "2020-11-20T07:52:30.220599Z"
    }
   },
   "outputs": [
    {
     "data": {
      "text/html": [
       "<div>\n",
       "<style scoped>\n",
       "    .dataframe tbody tr th:only-of-type {\n",
       "        vertical-align: middle;\n",
       "    }\n",
       "\n",
       "    .dataframe tbody tr th {\n",
       "        vertical-align: top;\n",
       "    }\n",
       "\n",
       "    .dataframe thead th {\n",
       "        text-align: right;\n",
       "    }\n",
       "</style>\n",
       "<table border=\"1\" class=\"dataframe\">\n",
       "  <thead>\n",
       "    <tr style=\"text-align: right;\">\n",
       "      <th></th>\n",
       "      <th>hypothesis</th>\n",
       "      <th>reach</th>\n",
       "      <th>impact</th>\n",
       "      <th>confidence</th>\n",
       "      <th>efforts</th>\n",
       "    </tr>\n",
       "  </thead>\n",
       "  <tbody>\n",
       "    <tr>\n",
       "      <th>0</th>\n",
       "      <td>Добавить два новых канала привлечения трафика,...</td>\n",
       "      <td>3</td>\n",
       "      <td>10</td>\n",
       "      <td>8</td>\n",
       "      <td>6</td>\n",
       "    </tr>\n",
       "    <tr>\n",
       "      <th>1</th>\n",
       "      <td>Запустить собственную службу доставки, что сок...</td>\n",
       "      <td>2</td>\n",
       "      <td>5</td>\n",
       "      <td>4</td>\n",
       "      <td>10</td>\n",
       "    </tr>\n",
       "    <tr>\n",
       "      <th>2</th>\n",
       "      <td>Добавить блоки рекомендаций товаров на сайт ин...</td>\n",
       "      <td>8</td>\n",
       "      <td>3</td>\n",
       "      <td>7</td>\n",
       "      <td>3</td>\n",
       "    </tr>\n",
       "    <tr>\n",
       "      <th>3</th>\n",
       "      <td>Изменить структура категорий, что увеличит кон...</td>\n",
       "      <td>8</td>\n",
       "      <td>3</td>\n",
       "      <td>3</td>\n",
       "      <td>8</td>\n",
       "    </tr>\n",
       "    <tr>\n",
       "      <th>4</th>\n",
       "      <td>Изменить цвет фона главной страницы, чтобы уве...</td>\n",
       "      <td>3</td>\n",
       "      <td>1</td>\n",
       "      <td>1</td>\n",
       "      <td>1</td>\n",
       "    </tr>\n",
       "    <tr>\n",
       "      <th>5</th>\n",
       "      <td>Добавить страницу отзывов клиентов о магазине,...</td>\n",
       "      <td>3</td>\n",
       "      <td>2</td>\n",
       "      <td>2</td>\n",
       "      <td>3</td>\n",
       "    </tr>\n",
       "    <tr>\n",
       "      <th>6</th>\n",
       "      <td>Показать на главной странице баннеры с актуаль...</td>\n",
       "      <td>5</td>\n",
       "      <td>3</td>\n",
       "      <td>8</td>\n",
       "      <td>3</td>\n",
       "    </tr>\n",
       "    <tr>\n",
       "      <th>7</th>\n",
       "      <td>Добавить форму подписки на все основные страни...</td>\n",
       "      <td>10</td>\n",
       "      <td>7</td>\n",
       "      <td>8</td>\n",
       "      <td>5</td>\n",
       "    </tr>\n",
       "    <tr>\n",
       "      <th>8</th>\n",
       "      <td>Запустить акцию, дающую скидку на товар в день...</td>\n",
       "      <td>1</td>\n",
       "      <td>9</td>\n",
       "      <td>9</td>\n",
       "      <td>5</td>\n",
       "    </tr>\n",
       "  </tbody>\n",
       "</table>\n",
       "</div>"
      ],
      "text/plain": [
       "                                          hypothesis  reach  impact  \\\n",
       "0  Добавить два новых канала привлечения трафика,...      3      10   \n",
       "1  Запустить собственную службу доставки, что сок...      2       5   \n",
       "2  Добавить блоки рекомендаций товаров на сайт ин...      8       3   \n",
       "3  Изменить структура категорий, что увеличит кон...      8       3   \n",
       "4  Изменить цвет фона главной страницы, чтобы уве...      3       1   \n",
       "5  Добавить страницу отзывов клиентов о магазине,...      3       2   \n",
       "6  Показать на главной странице баннеры с актуаль...      5       3   \n",
       "7  Добавить форму подписки на все основные страни...     10       7   \n",
       "8  Запустить акцию, дающую скидку на товар в день...      1       9   \n",
       "\n",
       "   confidence  efforts  \n",
       "0           8        6  \n",
       "1           4       10  \n",
       "2           7        3  \n",
       "3           3        8  \n",
       "4           1        1  \n",
       "5           2        3  \n",
       "6           8        3  \n",
       "7           8        5  \n",
       "8           9        5  "
      ]
     },
     "execution_count": 4,
     "metadata": {},
     "output_type": "execute_result"
    }
   ],
   "source": [
    "hypothesis_data"
   ]
  },
  {
   "cell_type": "markdown",
   "metadata": {},
   "source": [
    "- Hypothesis — краткое описание гипотезы;\n",
    "- Reach — охват пользователей по 10-балльной шкале;\n",
    "- Impact — влияние на пользователей по 10-балльной шкале;\n",
    "- Confidence — уверенность в гипотезе по 10-балльной шкале;\n",
    "- Efforts — затраты ресурсов на проверку гипотезы по 10-балльной шкале. Чем больше значение Efforts, тем дороже проверка гипотезы."
   ]
  },
  {
   "cell_type": "markdown",
   "metadata": {},
   "source": [
    "### <a id=\"ICE\">2. Использование фреймворка ICE</a>\n",
    "[Вернуться к оглавлению](#content_1)"
   ]
  },
  {
   "cell_type": "code",
   "execution_count": 5,
   "metadata": {
    "ExecuteTime": {
     "end_time": "2020-11-20T07:52:30.256912Z",
     "start_time": "2020-11-20T07:52:30.248003Z"
    }
   },
   "outputs": [],
   "source": [
    "#добавляем расчет ICE к таблице\n",
    "hypothesis_data['ice'] = hypothesis_data['impact'] * hypothesis_data['confidence'] / hypothesis_data['efforts']"
   ]
  },
  {
   "cell_type": "code",
   "execution_count": 6,
   "metadata": {},
   "outputs": [],
   "source": [
    "hypothesis_data['ice'] = hypothesis_data['ice'].round(2)"
   ]
  },
  {
   "cell_type": "code",
   "execution_count": 7,
   "metadata": {
    "ExecuteTime": {
     "end_time": "2020-11-20T07:52:30.283476Z",
     "start_time": "2020-11-20T07:52:30.262254Z"
    },
    "scrolled": true
   },
   "outputs": [
    {
     "data": {
      "text/html": [
       "<style  type=\"text/css\" >\n",
       "    #T_71861edc_7c06_11eb_a337_a02bb847f963 th {\n",
       "          max-width: 50px;\n",
       "    }</style><table id=\"T_71861edc_7c06_11eb_a337_a02bb847f963\" ><thead>    <tr>        <th class=\"blank level0\" ></th>        <th class=\"col_heading level0 col0\" >hypothesis</th>        <th class=\"col_heading level0 col1\" >ice</th>    </tr></thead><tbody>\n",
       "                <tr>\n",
       "                        <th id=\"T_71861edc_7c06_11eb_a337_a02bb847f963level0_row0\" class=\"row_heading level0 row0\" >8</th>\n",
       "                        <td id=\"T_71861edc_7c06_11eb_a337_a02bb847f963row0_col0\" class=\"data row0 col0\" >Запустить акцию, дающую скидку на товар в день рождения</td>\n",
       "                        <td id=\"T_71861edc_7c06_11eb_a337_a02bb847f963row0_col1\" class=\"data row0 col1\" >16.200000</td>\n",
       "            </tr>\n",
       "            <tr>\n",
       "                        <th id=\"T_71861edc_7c06_11eb_a337_a02bb847f963level0_row1\" class=\"row_heading level0 row1\" >0</th>\n",
       "                        <td id=\"T_71861edc_7c06_11eb_a337_a02bb847f963row1_col0\" class=\"data row1 col0\" >Добавить два новых канала привлечения трафика, что позволит привлекать на 30% больше пользователей</td>\n",
       "                        <td id=\"T_71861edc_7c06_11eb_a337_a02bb847f963row1_col1\" class=\"data row1 col1\" >13.330000</td>\n",
       "            </tr>\n",
       "            <tr>\n",
       "                        <th id=\"T_71861edc_7c06_11eb_a337_a02bb847f963level0_row2\" class=\"row_heading level0 row2\" >7</th>\n",
       "                        <td id=\"T_71861edc_7c06_11eb_a337_a02bb847f963row2_col0\" class=\"data row2 col0\" >Добавить форму подписки на все основные страницы, чтобы собрать базу клиентов для email-рассылок</td>\n",
       "                        <td id=\"T_71861edc_7c06_11eb_a337_a02bb847f963row2_col1\" class=\"data row2 col1\" >11.200000</td>\n",
       "            </tr>\n",
       "            <tr>\n",
       "                        <th id=\"T_71861edc_7c06_11eb_a337_a02bb847f963level0_row3\" class=\"row_heading level0 row3\" >6</th>\n",
       "                        <td id=\"T_71861edc_7c06_11eb_a337_a02bb847f963row3_col0\" class=\"data row3 col0\" >Показать на главной странице баннеры с актуальными акциями и распродажами, чтобы увеличить конверсию</td>\n",
       "                        <td id=\"T_71861edc_7c06_11eb_a337_a02bb847f963row3_col1\" class=\"data row3 col1\" >8.000000</td>\n",
       "            </tr>\n",
       "            <tr>\n",
       "                        <th id=\"T_71861edc_7c06_11eb_a337_a02bb847f963level0_row4\" class=\"row_heading level0 row4\" >2</th>\n",
       "                        <td id=\"T_71861edc_7c06_11eb_a337_a02bb847f963row4_col0\" class=\"data row4 col0\" >Добавить блоки рекомендаций товаров на сайт интернет магазина, чтобы повысить конверсию и средний чек заказа</td>\n",
       "                        <td id=\"T_71861edc_7c06_11eb_a337_a02bb847f963row4_col1\" class=\"data row4 col1\" >7.000000</td>\n",
       "            </tr>\n",
       "            <tr>\n",
       "                        <th id=\"T_71861edc_7c06_11eb_a337_a02bb847f963level0_row5\" class=\"row_heading level0 row5\" >1</th>\n",
       "                        <td id=\"T_71861edc_7c06_11eb_a337_a02bb847f963row5_col0\" class=\"data row5 col0\" >Запустить собственную службу доставки, что сократит срок доставки заказов</td>\n",
       "                        <td id=\"T_71861edc_7c06_11eb_a337_a02bb847f963row5_col1\" class=\"data row5 col1\" >2.000000</td>\n",
       "            </tr>\n",
       "            <tr>\n",
       "                        <th id=\"T_71861edc_7c06_11eb_a337_a02bb847f963level0_row6\" class=\"row_heading level0 row6\" >5</th>\n",
       "                        <td id=\"T_71861edc_7c06_11eb_a337_a02bb847f963row6_col0\" class=\"data row6 col0\" >Добавить страницу отзывов клиентов о магазине, что позволит увеличить количество заказов</td>\n",
       "                        <td id=\"T_71861edc_7c06_11eb_a337_a02bb847f963row6_col1\" class=\"data row6 col1\" >1.330000</td>\n",
       "            </tr>\n",
       "            <tr>\n",
       "                        <th id=\"T_71861edc_7c06_11eb_a337_a02bb847f963level0_row7\" class=\"row_heading level0 row7\" >3</th>\n",
       "                        <td id=\"T_71861edc_7c06_11eb_a337_a02bb847f963row7_col0\" class=\"data row7 col0\" >Изменить структура категорий, что увеличит конверсию, т.к. пользователи быстрее найдут нужный товар</td>\n",
       "                        <td id=\"T_71861edc_7c06_11eb_a337_a02bb847f963row7_col1\" class=\"data row7 col1\" >1.120000</td>\n",
       "            </tr>\n",
       "            <tr>\n",
       "                        <th id=\"T_71861edc_7c06_11eb_a337_a02bb847f963level0_row8\" class=\"row_heading level0 row8\" >4</th>\n",
       "                        <td id=\"T_71861edc_7c06_11eb_a337_a02bb847f963row8_col0\" class=\"data row8 col0\" >Изменить цвет фона главной страницы, чтобы увеличить вовлеченность пользователей</td>\n",
       "                        <td id=\"T_71861edc_7c06_11eb_a337_a02bb847f963row8_col1\" class=\"data row8 col1\" >1.000000</td>\n",
       "            </tr>\n",
       "    </tbody></table>"
      ],
      "text/plain": [
       "<pandas.io.formats.style.Styler at 0x19aeabe8bc8>"
      ]
     },
     "execution_count": 7,
     "metadata": {},
     "output_type": "execute_result"
    }
   ],
   "source": [
    "hypothesis_ice = hypothesis_data.sort_values(by = 'ice', ascending = False)[['hypothesis', 'ice']]\n",
    "hypothesis_ice.style.set_table_styles([dict(selector=\"th\",props=[('max-width', '50px')])])"
   ]
  },
  {
   "cell_type": "markdown",
   "metadata": {},
   "source": [
    "### <a id=\"RICE\">3. Использование фреймворка RICE</a>\n",
    "[Вернуться к оглавлению](#content_1)"
   ]
  },
  {
   "cell_type": "code",
   "execution_count": 8,
   "metadata": {
    "ExecuteTime": {
     "end_time": "2020-11-20T07:52:30.296965Z",
     "start_time": "2020-11-20T07:52:30.287569Z"
    }
   },
   "outputs": [],
   "source": [
    "hypothesis_data['rice'] = hypothesis_data['reach'] * hypothesis_data['impact'] * hypothesis_data['confidence'] / hypothesis_data['efforts']"
   ]
  },
  {
   "cell_type": "code",
   "execution_count": 9,
   "metadata": {
    "ExecuteTime": {
     "end_time": "2020-11-20T07:52:30.317563Z",
     "start_time": "2020-11-20T07:52:30.299989Z"
    },
    "scrolled": true
   },
   "outputs": [
    {
     "data": {
      "text/html": [
       "<style  type=\"text/css\" >\n",
       "    #T_7190584a_7c06_11eb_aa35_a02bb847f963 th {\n",
       "          max-width: 50px;\n",
       "    }</style><table id=\"T_7190584a_7c06_11eb_aa35_a02bb847f963\" ><thead>    <tr>        <th class=\"blank level0\" ></th>        <th class=\"col_heading level0 col0\" >hypothesis</th>        <th class=\"col_heading level0 col1\" >rice</th>    </tr></thead><tbody>\n",
       "                <tr>\n",
       "                        <th id=\"T_7190584a_7c06_11eb_aa35_a02bb847f963level0_row0\" class=\"row_heading level0 row0\" >7</th>\n",
       "                        <td id=\"T_7190584a_7c06_11eb_aa35_a02bb847f963row0_col0\" class=\"data row0 col0\" >Добавить форму подписки на все основные страницы, чтобы собрать базу клиентов для email-рассылок</td>\n",
       "                        <td id=\"T_7190584a_7c06_11eb_aa35_a02bb847f963row0_col1\" class=\"data row0 col1\" >112.000000</td>\n",
       "            </tr>\n",
       "            <tr>\n",
       "                        <th id=\"T_7190584a_7c06_11eb_aa35_a02bb847f963level0_row1\" class=\"row_heading level0 row1\" >2</th>\n",
       "                        <td id=\"T_7190584a_7c06_11eb_aa35_a02bb847f963row1_col0\" class=\"data row1 col0\" >Добавить блоки рекомендаций товаров на сайт интернет магазина, чтобы повысить конверсию и средний чек заказа</td>\n",
       "                        <td id=\"T_7190584a_7c06_11eb_aa35_a02bb847f963row1_col1\" class=\"data row1 col1\" >56.000000</td>\n",
       "            </tr>\n",
       "            <tr>\n",
       "                        <th id=\"T_7190584a_7c06_11eb_aa35_a02bb847f963level0_row2\" class=\"row_heading level0 row2\" >0</th>\n",
       "                        <td id=\"T_7190584a_7c06_11eb_aa35_a02bb847f963row2_col0\" class=\"data row2 col0\" >Добавить два новых канала привлечения трафика, что позволит привлекать на 30% больше пользователей</td>\n",
       "                        <td id=\"T_7190584a_7c06_11eb_aa35_a02bb847f963row2_col1\" class=\"data row2 col1\" >40.000000</td>\n",
       "            </tr>\n",
       "            <tr>\n",
       "                        <th id=\"T_7190584a_7c06_11eb_aa35_a02bb847f963level0_row3\" class=\"row_heading level0 row3\" >6</th>\n",
       "                        <td id=\"T_7190584a_7c06_11eb_aa35_a02bb847f963row3_col0\" class=\"data row3 col0\" >Показать на главной странице баннеры с актуальными акциями и распродажами, чтобы увеличить конверсию</td>\n",
       "                        <td id=\"T_7190584a_7c06_11eb_aa35_a02bb847f963row3_col1\" class=\"data row3 col1\" >40.000000</td>\n",
       "            </tr>\n",
       "            <tr>\n",
       "                        <th id=\"T_7190584a_7c06_11eb_aa35_a02bb847f963level0_row4\" class=\"row_heading level0 row4\" >8</th>\n",
       "                        <td id=\"T_7190584a_7c06_11eb_aa35_a02bb847f963row4_col0\" class=\"data row4 col0\" >Запустить акцию, дающую скидку на товар в день рождения</td>\n",
       "                        <td id=\"T_7190584a_7c06_11eb_aa35_a02bb847f963row4_col1\" class=\"data row4 col1\" >16.200000</td>\n",
       "            </tr>\n",
       "            <tr>\n",
       "                        <th id=\"T_7190584a_7c06_11eb_aa35_a02bb847f963level0_row5\" class=\"row_heading level0 row5\" >3</th>\n",
       "                        <td id=\"T_7190584a_7c06_11eb_aa35_a02bb847f963row5_col0\" class=\"data row5 col0\" >Изменить структура категорий, что увеличит конверсию, т.к. пользователи быстрее найдут нужный товар</td>\n",
       "                        <td id=\"T_7190584a_7c06_11eb_aa35_a02bb847f963row5_col1\" class=\"data row5 col1\" >9.000000</td>\n",
       "            </tr>\n",
       "            <tr>\n",
       "                        <th id=\"T_7190584a_7c06_11eb_aa35_a02bb847f963level0_row6\" class=\"row_heading level0 row6\" >1</th>\n",
       "                        <td id=\"T_7190584a_7c06_11eb_aa35_a02bb847f963row6_col0\" class=\"data row6 col0\" >Запустить собственную службу доставки, что сократит срок доставки заказов</td>\n",
       "                        <td id=\"T_7190584a_7c06_11eb_aa35_a02bb847f963row6_col1\" class=\"data row6 col1\" >4.000000</td>\n",
       "            </tr>\n",
       "            <tr>\n",
       "                        <th id=\"T_7190584a_7c06_11eb_aa35_a02bb847f963level0_row7\" class=\"row_heading level0 row7\" >5</th>\n",
       "                        <td id=\"T_7190584a_7c06_11eb_aa35_a02bb847f963row7_col0\" class=\"data row7 col0\" >Добавить страницу отзывов клиентов о магазине, что позволит увеличить количество заказов</td>\n",
       "                        <td id=\"T_7190584a_7c06_11eb_aa35_a02bb847f963row7_col1\" class=\"data row7 col1\" >4.000000</td>\n",
       "            </tr>\n",
       "            <tr>\n",
       "                        <th id=\"T_7190584a_7c06_11eb_aa35_a02bb847f963level0_row8\" class=\"row_heading level0 row8\" >4</th>\n",
       "                        <td id=\"T_7190584a_7c06_11eb_aa35_a02bb847f963row8_col0\" class=\"data row8 col0\" >Изменить цвет фона главной страницы, чтобы увеличить вовлеченность пользователей</td>\n",
       "                        <td id=\"T_7190584a_7c06_11eb_aa35_a02bb847f963row8_col1\" class=\"data row8 col1\" >3.000000</td>\n",
       "            </tr>\n",
       "    </tbody></table>"
      ],
      "text/plain": [
       "<pandas.io.formats.style.Styler at 0x19aebd02688>"
      ]
     },
     "execution_count": 9,
     "metadata": {},
     "output_type": "execute_result"
    }
   ],
   "source": [
    "#добавляем расчет RICE к таблице\n",
    "hypothesis_rice = hypothesis_data.sort_values(by = 'rice', ascending = False)[['hypothesis', 'rice']]\n",
    "hypothesis_rice.style.set_table_styles([dict(selector=\"th\",props=[('max-width', '50px')])])"
   ]
  },
  {
   "cell_type": "markdown",
   "metadata": {},
   "source": [
    "### <a id=\"conclusion\">4. Вывод</a>\n",
    "[Вернуться к оглавлению](#content_1)\n",
    "\n",
    "В рассчете по ICE наибольшее количество баллов получили гипотезы под номерами 8, 0 и 7. В рассчете по RICE топ-3 гипотез - под номерами 7, 2 и 0. \n",
    "Топ-5 гипотез остались такими же, хоть и в измененном порядке. \n",
    "На первом месте оказалась гипотеза с наибольшим охватом."
   ]
  },
  {
   "cell_type": "markdown",
   "metadata": {},
   "source": [
    "## <a id=\"2\">Часть 2. Анализ A/B-теста</a>"
   ]
  },
  {
   "cell_type": "markdown",
   "metadata": {},
   "source": [
    "### <a id=\"preprocessing_2\">1. Предобработка данных</a>\n",
    "[Вернуться к оглавлению](#content_2)"
   ]
  },
  {
   "cell_type": "code",
   "execution_count": 10,
   "metadata": {
    "ExecuteTime": {
     "end_time": "2020-11-20T08:48:33.758265Z",
     "start_time": "2020-11-20T08:48:33.747593Z"
    }
   },
   "outputs": [],
   "source": [
    "#читаем данные по заказам\n",
    "orders = pd.read_csv('C:/Users/liana/datasets/orders.csv', sep = ',')"
   ]
  },
  {
   "cell_type": "code",
   "execution_count": 11,
   "metadata": {
    "ExecuteTime": {
     "end_time": "2020-11-20T08:48:34.871136Z",
     "start_time": "2020-11-20T08:48:34.837721Z"
    },
    "scrolled": false
   },
   "outputs": [
    {
     "name": "stdout",
     "output_type": "stream",
     "text": [
      "<class 'pandas.core.frame.DataFrame'>\n",
      "RangeIndex: 1197 entries, 0 to 1196\n",
      "Data columns (total 5 columns):\n",
      " #   Column         Non-Null Count  Dtype \n",
      "---  ------         --------------  ----- \n",
      " 0   transactionId  1197 non-null   int64 \n",
      " 1   visitorId      1197 non-null   int64 \n",
      " 2   date           1197 non-null   object\n",
      " 3   revenue        1197 non-null   int64 \n",
      " 4   group          1197 non-null   object\n",
      "dtypes: int64(3), object(2)\n",
      "memory usage: 46.9+ KB\n"
     ]
    },
    {
     "data": {
      "text/html": [
       "<div>\n",
       "<style scoped>\n",
       "    .dataframe tbody tr th:only-of-type {\n",
       "        vertical-align: middle;\n",
       "    }\n",
       "\n",
       "    .dataframe tbody tr th {\n",
       "        vertical-align: top;\n",
       "    }\n",
       "\n",
       "    .dataframe thead th {\n",
       "        text-align: right;\n",
       "    }\n",
       "</style>\n",
       "<table border=\"1\" class=\"dataframe\">\n",
       "  <thead>\n",
       "    <tr style=\"text-align: right;\">\n",
       "      <th></th>\n",
       "      <th>transactionId</th>\n",
       "      <th>visitorId</th>\n",
       "      <th>date</th>\n",
       "      <th>revenue</th>\n",
       "      <th>group</th>\n",
       "    </tr>\n",
       "  </thead>\n",
       "  <tbody>\n",
       "    <tr>\n",
       "      <th>0</th>\n",
       "      <td>3667963787</td>\n",
       "      <td>3312258926</td>\n",
       "      <td>2019-08-15</td>\n",
       "      <td>1650</td>\n",
       "      <td>B</td>\n",
       "    </tr>\n",
       "    <tr>\n",
       "      <th>1</th>\n",
       "      <td>2804400009</td>\n",
       "      <td>3642806036</td>\n",
       "      <td>2019-08-15</td>\n",
       "      <td>730</td>\n",
       "      <td>B</td>\n",
       "    </tr>\n",
       "    <tr>\n",
       "      <th>2</th>\n",
       "      <td>2961555356</td>\n",
       "      <td>4069496402</td>\n",
       "      <td>2019-08-15</td>\n",
       "      <td>400</td>\n",
       "      <td>A</td>\n",
       "    </tr>\n",
       "    <tr>\n",
       "      <th>3</th>\n",
       "      <td>3797467345</td>\n",
       "      <td>1196621759</td>\n",
       "      <td>2019-08-15</td>\n",
       "      <td>9759</td>\n",
       "      <td>B</td>\n",
       "    </tr>\n",
       "    <tr>\n",
       "      <th>4</th>\n",
       "      <td>2282983706</td>\n",
       "      <td>2322279887</td>\n",
       "      <td>2019-08-15</td>\n",
       "      <td>2308</td>\n",
       "      <td>B</td>\n",
       "    </tr>\n",
       "  </tbody>\n",
       "</table>\n",
       "</div>"
      ],
      "text/plain": [
       "   transactionId   visitorId        date  revenue group\n",
       "0     3667963787  3312258926  2019-08-15     1650     B\n",
       "1     2804400009  3642806036  2019-08-15      730     B\n",
       "2     2961555356  4069496402  2019-08-15      400     A\n",
       "3     3797467345  1196621759  2019-08-15     9759     B\n",
       "4     2282983706  2322279887  2019-08-15     2308     B"
      ]
     },
     "execution_count": 11,
     "metadata": {},
     "output_type": "execute_result"
    }
   ],
   "source": [
    "orders.info()\n",
    "orders.head()"
   ]
  },
  {
   "cell_type": "code",
   "execution_count": 12,
   "metadata": {
    "ExecuteTime": {
     "end_time": "2020-11-20T08:49:42.225180Z",
     "start_time": "2020-11-20T08:49:42.214996Z"
    }
   },
   "outputs": [],
   "source": [
    "#меняем заголовки\n",
    "orders.columns = ['transaction_id', 'visitor_id', 'date', 'revenue', 'group']"
   ]
  },
  {
   "cell_type": "code",
   "execution_count": 13,
   "metadata": {
    "ExecuteTime": {
     "end_time": "2020-11-20T07:52:30.407363Z",
     "start_time": "2020-11-20T07:52:30.395048Z"
    }
   },
   "outputs": [],
   "source": [
    "#читаем данные по посетителям\n",
    "visitors = pd.read_csv('C:/Users/liana/datasets/visitors.csv', sep = ',')"
   ]
  },
  {
   "cell_type": "code",
   "execution_count": 14,
   "metadata": {
    "ExecuteTime": {
     "end_time": "2020-11-20T07:52:30.442207Z",
     "start_time": "2020-11-20T07:52:30.412681Z"
    },
    "scrolled": true
   },
   "outputs": [
    {
     "name": "stdout",
     "output_type": "stream",
     "text": [
      "<class 'pandas.core.frame.DataFrame'>\n",
      "RangeIndex: 62 entries, 0 to 61\n",
      "Data columns (total 3 columns):\n",
      " #   Column    Non-Null Count  Dtype \n",
      "---  ------    --------------  ----- \n",
      " 0   date      62 non-null     object\n",
      " 1   group     62 non-null     object\n",
      " 2   visitors  62 non-null     int64 \n",
      "dtypes: int64(1), object(2)\n",
      "memory usage: 1.6+ KB\n"
     ]
    },
    {
     "data": {
      "text/html": [
       "<div>\n",
       "<style scoped>\n",
       "    .dataframe tbody tr th:only-of-type {\n",
       "        vertical-align: middle;\n",
       "    }\n",
       "\n",
       "    .dataframe tbody tr th {\n",
       "        vertical-align: top;\n",
       "    }\n",
       "\n",
       "    .dataframe thead th {\n",
       "        text-align: right;\n",
       "    }\n",
       "</style>\n",
       "<table border=\"1\" class=\"dataframe\">\n",
       "  <thead>\n",
       "    <tr style=\"text-align: right;\">\n",
       "      <th></th>\n",
       "      <th>date</th>\n",
       "      <th>group</th>\n",
       "      <th>visitors</th>\n",
       "    </tr>\n",
       "  </thead>\n",
       "  <tbody>\n",
       "    <tr>\n",
       "      <th>0</th>\n",
       "      <td>2019-08-01</td>\n",
       "      <td>A</td>\n",
       "      <td>719</td>\n",
       "    </tr>\n",
       "    <tr>\n",
       "      <th>1</th>\n",
       "      <td>2019-08-02</td>\n",
       "      <td>A</td>\n",
       "      <td>619</td>\n",
       "    </tr>\n",
       "    <tr>\n",
       "      <th>2</th>\n",
       "      <td>2019-08-03</td>\n",
       "      <td>A</td>\n",
       "      <td>507</td>\n",
       "    </tr>\n",
       "    <tr>\n",
       "      <th>3</th>\n",
       "      <td>2019-08-04</td>\n",
       "      <td>A</td>\n",
       "      <td>717</td>\n",
       "    </tr>\n",
       "    <tr>\n",
       "      <th>4</th>\n",
       "      <td>2019-08-05</td>\n",
       "      <td>A</td>\n",
       "      <td>756</td>\n",
       "    </tr>\n",
       "  </tbody>\n",
       "</table>\n",
       "</div>"
      ],
      "text/plain": [
       "         date group  visitors\n",
       "0  2019-08-01     A       719\n",
       "1  2019-08-02     A       619\n",
       "2  2019-08-03     A       507\n",
       "3  2019-08-04     A       717\n",
       "4  2019-08-05     A       756"
      ]
     },
     "execution_count": 14,
     "metadata": {},
     "output_type": "execute_result"
    }
   ],
   "source": [
    "visitors.info()\n",
    "visitors.head()"
   ]
  },
  {
   "cell_type": "code",
   "execution_count": 15,
   "metadata": {
    "ExecuteTime": {
     "end_time": "2020-11-20T07:52:30.461854Z",
     "start_time": "2020-11-20T07:52:30.446340Z"
    }
   },
   "outputs": [],
   "source": [
    "#приводим даты к нужному типу\n",
    "orders['date'] = pd.to_datetime(orders['date'], format = '%Y-%m-%d')\n",
    "visitors['date'] = pd.to_datetime(visitors['date'], format = '%Y-%m-%d')"
   ]
  },
  {
   "cell_type": "markdown",
   "metadata": {},
   "source": [
    "### <a id=\"cumulative_revenue\">2. График кумулятивной выручки по группам</a>\n",
    "[Вернуться к оглавлению](#content_2)"
   ]
  },
  {
   "cell_type": "code",
   "execution_count": 16,
   "metadata": {
    "ExecuteTime": {
     "end_time": "2020-11-20T07:52:30.479897Z",
     "start_time": "2020-11-20T07:52:30.468124Z"
    }
   },
   "outputs": [],
   "source": [
    "#создаем отдельные датафреймы по каждой группе\n",
    "orders_a = orders[orders['group'] == 'A']\n",
    "orders_b = orders[orders['group'] == 'B']"
   ]
  },
  {
   "cell_type": "code",
   "execution_count": 17,
   "metadata": {
    "ExecuteTime": {
     "end_time": "2020-11-20T07:52:30.509407Z",
     "start_time": "2020-11-20T07:52:30.484563Z"
    }
   },
   "outputs": [],
   "source": [
    "#считаем количество заказов и выручку за день для группы А\n",
    "#считаем кумулятивное количество заказов и кумулятивную выручку для группы А\n",
    "\n",
    "orders_a_daily = orders_a.groupby('date').agg({'revenue':'sum', 'transaction_id':'nunique'})\n",
    "orders_a_daily_cumsum = orders_a_daily.agg({'revenue':'cumsum', 'transaction_id':'cumsum'}).reset_index()"
   ]
  },
  {
   "cell_type": "code",
   "execution_count": 18,
   "metadata": {
    "ExecuteTime": {
     "end_time": "2020-11-20T07:52:30.534386Z",
     "start_time": "2020-11-20T07:52:30.511871Z"
    }
   },
   "outputs": [],
   "source": [
    "#считаем количество заказов и выручку за день для группы В\n",
    "#считаем кумулятивное количество заказов и кумулятивную выручку для группы В\n",
    "\n",
    "orders_b_daily = orders_b.groupby('date').agg({'revenue':'sum', 'transaction_id':'nunique'})\n",
    "orders_b_daily_cumsum  = orders_b_daily.agg({'revenue':'cumsum', 'transaction_id':'cumsum'}).reset_index()"
   ]
  },
  {
   "cell_type": "code",
   "execution_count": 19,
   "metadata": {
    "ExecuteTime": {
     "end_time": "2020-11-20T09:04:38.895910Z",
     "start_time": "2020-11-20T09:04:38.563324Z"
    },
    "scrolled": true
   },
   "outputs": [
    {
     "data": {
      "image/png": "[encoded data removed]",
      "text/plain": [
       "<Figure size 432x288 with 1 Axes>"
      ]
     },
     "metadata": {
      "needs_background": "light"
     },
     "output_type": "display_data"
    }
   ],
   "source": [
    "#строим график кумулятивной выручки по группам\n",
    "\n",
    "plt.plot(orders_a_daily_cumsum['date'], orders_a_daily_cumsum['revenue'], label = 'A')\n",
    "plt.plot(orders_b_daily_cumsum['date'], orders_b_daily_cumsum['revenue'], label = 'B')\n",
    "plt.legend()\n",
    "plt.title('График кумулятивной выручки по группам')\n",
    "plt.xticks(rotation= 45)\n",
    "plt.show()"
   ]
  },
  {
   "cell_type": "markdown",
   "metadata": {},
   "source": [
    "#### Вывод:\n",
    "До какого-то определенного времени кумулятивная выручка групп А и Б росла примерно одинаково, но потом произошел резкий скачок в группе Б, который говорит о возможном аномальном поведении (нетипично больша сумма заказа либо большое количество заказов).\n",
    "Дальнейший темп роста выручки после аномального \"скачка\" в группе В также примерно одинаковый (линии почти параллельны)."
   ]
  },
  {
   "cell_type": "markdown",
   "metadata": {},
   "source": [
    "### <a id=\"cumulative_revenue_by_orders\">3. График кумулятивного среднего чека по группам</a>\n",
    "[Вернуться к оглавлению](#content_2)"
   ]
  },
  {
   "cell_type": "code",
   "execution_count": 20,
   "metadata": {
    "ExecuteTime": {
     "end_time": "2020-11-20T07:52:31.343834Z",
     "start_time": "2020-11-20T07:52:30.955031Z"
    }
   },
   "outputs": [
    {
     "data": {
      "image/png": "[encoded data removed]",
      "text/plain": [
       "<Figure size 432x288 with 1 Axes>"
      ]
     },
     "metadata": {
      "needs_background": "light"
     },
     "output_type": "display_data"
    }
   ],
   "source": [
    "#строим график кумулятивного среднего чека\n",
    "\n",
    "plt.plot(orders_a_daily_cumsum['date'], orders_a_daily_cumsum['revenue'] / orders_a_daily_cumsum['transaction_id'], label = 'A')\n",
    "plt.plot(orders_b_daily_cumsum['date'], orders_b_daily_cumsum['revenue'] / orders_b_daily_cumsum['transaction_id'], label = 'B')\n",
    "plt.legend()\n",
    "plt.title('График кумулятивного среднего чека по группам')\n",
    "plt.xticks(rotation = 45)\n",
    "plt.show()"
   ]
  },
  {
   "cell_type": "markdown",
   "metadata": {},
   "source": [
    "#### Вывод:\n",
    "В группе В есть резкое увеличение кумулятивного среднего чека, которое вызвано аномальным поведением, а именно большой суммой заказа или заказов.\n",
    "Возможно в группе А в начале теста тоже былы какие-то аномальные заказы, потому что на графике тоже есть резкие скачки."
   ]
  },
  {
   "cell_type": "markdown",
   "metadata": {},
   "source": [
    "### <a id=\"cumulative_revenue_by_orders_BA\">4. График относительного изменения кумулятивного среднего чека группы B к группе A</a>\n",
    "[Вернуться к оглавлению](#content_2)"
   ]
  },
  {
   "cell_type": "code",
   "execution_count": 21,
   "metadata": {
    "ExecuteTime": {
     "end_time": "2020-11-20T07:52:31.808585Z",
     "start_time": "2020-11-20T07:52:31.346506Z"
    }
   },
   "outputs": [
    {
     "data": {
      "image/png": "[encoded data removed]",
      "text/plain": [
       "<Figure size 432x288 with 1 Axes>"
      ]
     },
     "metadata": {
      "needs_background": "light"
     },
     "output_type": "display_data"
    }
   ],
   "source": [
    "#строим график относительного измененеия кумулятивного среднего чека\n",
    "\n",
    "plt.plot(orders_b_daily_cumsum['date'], \n",
    "         (orders_b_daily_cumsum['revenue'] / orders_b_daily_cumsum['transaction_id']) / \n",
    "         (orders_a_daily_cumsum['revenue'] / orders_a_daily_cumsum['transaction_id']) - 1)\n",
    "plt.title('График относительного изменения кумулятивного среднего чека группы В к группе А')\n",
    "plt.xticks(rotation=45)\n",
    "plt.axhline(0, linestyle = '--', color = 'grey')\n",
    "plt.show()"
   ]
  },
  {
   "cell_type": "markdown",
   "metadata": {},
   "source": [
    "#### Вывод:\n",
    "Кумулятивный средний чек группы В больше, чем кумулятивный средний чек группы А почти все время испытаний. Но есть резкие скачки, которые необходимо дополнительно исследовать."
   ]
  },
  {
   "cell_type": "markdown",
   "metadata": {},
   "source": [
    "### <a id=\"cumulative_conversion\">5. График кумулятивной конверсии по группам</a>\n",
    "[Вернуться к оглавлению](#content_2)"
   ]
  },
  {
   "cell_type": "code",
   "execution_count": 22,
   "metadata": {
    "ExecuteTime": {
     "end_time": "2020-11-20T07:52:31.856765Z",
     "start_time": "2020-11-20T07:52:31.811294Z"
    }
   },
   "outputs": [],
   "source": [
    "#добавляем столбец с кумулятивным количеством посетителей\n",
    "\n",
    "orders_a_daily_cumsum = orders_a_daily_cumsum.merge(\n",
    "    visitors[visitors['group'] == 'A'].agg({'date':'unique', 'visitors':'cumsum'}), on = 'date')\n",
    "\n",
    "orders_b_daily_cumsum = orders_b_daily_cumsum.merge(\n",
    "    visitors[visitors['group'] == 'B'].agg({'date':'unique', 'visitors':'cumsum'}), on = 'date')"
   ]
  },
  {
   "cell_type": "code",
   "execution_count": 23,
   "metadata": {
    "ExecuteTime": {
     "end_time": "2020-11-20T07:52:31.865379Z",
     "start_time": "2020-11-20T07:52:31.859863Z"
    }
   },
   "outputs": [],
   "source": [
    "#меняем названия столбцов\n",
    "\n",
    "orders_a_daily_cumsum.columns = ['date', 'revenue', 'orders', 'visitors']\n",
    "orders_b_daily_cumsum.columns = ['date', 'revenue', 'orders', 'visitors']"
   ]
  },
  {
   "cell_type": "code",
   "execution_count": 24,
   "metadata": {
    "ExecuteTime": {
     "end_time": "2020-11-20T07:52:31.885082Z",
     "start_time": "2020-11-20T07:52:31.871444Z"
    }
   },
   "outputs": [],
   "source": [
    "#считаем кумулятивную конверсию как кумулятивное количество заказов, деленное на кумулятивное количество посетителей\n",
    "\n",
    "orders_a_daily_cumsum['conversion'] = orders_a_daily_cumsum['orders'] / orders_a_daily_cumsum['visitors']\n",
    "orders_b_daily_cumsum['conversion'] = orders_b_daily_cumsum['orders'] / orders_b_daily_cumsum['visitors']"
   ]
  },
  {
   "cell_type": "code",
   "execution_count": 25,
   "metadata": {
    "ExecuteTime": {
     "end_time": "2020-11-20T07:52:32.301653Z",
     "start_time": "2020-11-20T07:52:31.889131Z"
    }
   },
   "outputs": [
    {
     "data": {
      "image/png": "[encoded data removed]",
      "text/plain": [
       "<Figure size 432x288 with 1 Axes>"
      ]
     },
     "metadata": {
      "needs_background": "light"
     },
     "output_type": "display_data"
    }
   ],
   "source": [
    "#строим график кумулятивной конверсии по группам в более мелком масштабе для наглядности\n",
    "\n",
    "plt.plot(orders_a_daily_cumsum['date'], orders_a_daily_cumsum['conversion'], label = 'A')\n",
    "plt.plot(orders_b_daily_cumsum['date'], orders_b_daily_cumsum['conversion'], label = 'B')\n",
    "plt.legend()\n",
    "plt.title('График кумулятивной конверсии по группам')\n",
    "plt.xticks(rotation=45)\n",
    "plt.axis([dt.datetime(2019,8,1), dt.datetime (2019,9,1), 0, 0.04]) \n",
    "plt.show()"
   ]
  },
  {
   "cell_type": "markdown",
   "metadata": {},
   "source": [
    "#### Вывод:\n",
    "В начале теста были колебания, но затем они выровнялись. Конверсия группы В выше, чем конверсия группы А."
   ]
  },
  {
   "cell_type": "markdown",
   "metadata": {},
   "source": [
    "### <a id=\"cumulative_conversion_BA\">6. График относительного изменения кумулятивной конверсии группы B к группе A</a>\n",
    "[Вернуться к оглавлению](#content_2)"
   ]
  },
  {
   "cell_type": "code",
   "execution_count": 26,
   "metadata": {
    "ExecuteTime": {
     "end_time": "2020-11-20T07:54:48.967224Z",
     "start_time": "2020-11-20T07:54:48.631457Z"
    }
   },
   "outputs": [
    {
     "data": {
      "image/png": "[encoded data removed]",
      "text/plain": [
       "<Figure size 432x288 with 1 Axes>"
      ]
     },
     "metadata": {
      "needs_background": "light"
     },
     "output_type": "display_data"
    }
   ],
   "source": [
    "#строим график относительного изменения кумулятивной конверсии группы B к группе A\n",
    "\n",
    "plt.plot(orders_b_daily_cumsum['date'], orders_b_daily_cumsum['conversion'] / orders_a_daily_cumsum['conversion'] - 1)\n",
    "plt.title('График относительного изменения кумулятивной конверсии группы B к группе A')\n",
    "plt.xticks(rotation=45)\n",
    "plt.axhline(0, linestyle = '--', color = 'grey')\n",
    "plt.show()"
   ]
  },
  {
   "cell_type": "markdown",
   "metadata": {},
   "source": [
    "#### Вывод:\n",
    "В начале теста были колебания, но потом конверсия группы В выросла больше, чем на 10%, по сравнению с конверсией группы А."
   ]
  },
  {
   "cell_type": "markdown",
   "metadata": {},
   "source": [
    "### <a id=\"scatter_orders\">7. Точечный график количества заказов по пользователям</a>\n",
    "[Вернуться к оглавлению](#content_2)"
   ]
  },
  {
   "cell_type": "code",
   "execution_count": 27,
   "metadata": {
    "ExecuteTime": {
     "end_time": "2020-11-20T07:54:54.355190Z",
     "start_time": "2020-11-20T07:54:54.075096Z"
    }
   },
   "outputs": [
    {
     "data": {
      "text/html": [
       "<div>\n",
       "<style scoped>\n",
       "    .dataframe tbody tr th:only-of-type {\n",
       "        vertical-align: middle;\n",
       "    }\n",
       "\n",
       "    .dataframe tbody tr th {\n",
       "        vertical-align: top;\n",
       "    }\n",
       "\n",
       "    .dataframe thead th {\n",
       "        text-align: right;\n",
       "    }\n",
       "</style>\n",
       "<table border=\"1\" class=\"dataframe\">\n",
       "  <thead>\n",
       "    <tr style=\"text-align: right;\">\n",
       "      <th></th>\n",
       "      <th>visitor_id</th>\n",
       "      <th>orders_number</th>\n",
       "      <th>group</th>\n",
       "    </tr>\n",
       "  </thead>\n",
       "  <tbody>\n",
       "    <tr>\n",
       "      <th>0</th>\n",
       "      <td>5114589</td>\n",
       "      <td>1</td>\n",
       "      <td>B</td>\n",
       "    </tr>\n",
       "    <tr>\n",
       "      <th>1</th>\n",
       "      <td>6958315</td>\n",
       "      <td>1</td>\n",
       "      <td>B</td>\n",
       "    </tr>\n",
       "    <tr>\n",
       "      <th>2</th>\n",
       "      <td>8300375</td>\n",
       "      <td>2</td>\n",
       "      <td>A</td>\n",
       "    </tr>\n",
       "    <tr>\n",
       "      <th>3</th>\n",
       "      <td>11685486</td>\n",
       "      <td>1</td>\n",
       "      <td>A</td>\n",
       "    </tr>\n",
       "    <tr>\n",
       "      <th>4</th>\n",
       "      <td>39475350</td>\n",
       "      <td>1</td>\n",
       "      <td>B</td>\n",
       "    </tr>\n",
       "  </tbody>\n",
       "</table>\n",
       "</div>"
      ],
      "text/plain": [
       "   visitor_id  orders_number group\n",
       "0     5114589              1     B\n",
       "1     6958315              1     B\n",
       "2     8300375              2     A\n",
       "3    11685486              1     A\n",
       "4    39475350              1     B"
      ]
     },
     "execution_count": 27,
     "metadata": {},
     "output_type": "execute_result"
    }
   ],
   "source": [
    "#считаем количество заказов для каждого пользователя\n",
    "#выбираем для group аггрегирующую функцию min, чтобы при наличии посетиителя в обеих группах, оставалась только группа А, \n",
    "#т.к. она меньше по размеру\n",
    "orders_n = orders.groupby('visitor_id').agg({'transaction_id':'nunique', 'group':'min'}).reset_index()\n",
    "orders_n.columns = ['visitor_id', 'orders_number', 'group']\n",
    "orders_n.head()"
   ]
  },
  {
   "cell_type": "code",
   "execution_count": 28,
   "metadata": {
    "ExecuteTime": {
     "end_time": "2020-11-20T07:54:58.604608Z",
     "start_time": "2020-11-20T07:54:58.311458Z"
    },
    "scrolled": true
   },
   "outputs": [
    {
     "data": {
      "image/png": "[encoded data removed]",
      "text/plain": [
       "<Figure size 432x288 with 1 Axes>"
      ]
     },
     "metadata": {
      "needs_background": "light"
     },
     "output_type": "display_data"
    }
   ],
   "source": [
    "#строим гистограмму распределения количества заказов\n",
    "orders_n['orders_number'].hist()\n",
    "plt.title('Гистограмма распределения количества заказов')\n",
    "plt.show()"
   ]
  },
  {
   "cell_type": "code",
   "execution_count": 29,
   "metadata": {
    "ExecuteTime": {
     "end_time": "2020-11-20T07:55:02.724177Z",
     "start_time": "2020-11-20T07:55:02.446214Z"
    },
    "scrolled": true
   },
   "outputs": [
    {
     "data": {
      "image/png": "[encoded data removed]",
      "text/plain": [
       "<Figure size 432x288 with 1 Axes>"
      ]
     },
     "metadata": {
      "needs_background": "light"
     },
     "output_type": "display_data"
    }
   ],
   "source": [
    "#строим точечный график\n",
    "x_values = pd.Series(range(0, orders['visitor_id'].nunique()))\n",
    "plt.scatter(x_values, orders_n['orders_number'])\n",
    "plt.title('Точечный график распределения количества заказов')\n",
    "plt.show()"
   ]
  },
  {
   "cell_type": "code",
   "execution_count": 30,
   "metadata": {
    "ExecuteTime": {
     "end_time": "2020-11-20T07:55:04.040877Z",
     "start_time": "2020-11-20T07:55:04.031667Z"
    }
   },
   "outputs": [
    {
     "data": {
      "text/plain": [
       "1     937\n",
       "2      64\n",
       "3      17\n",
       "5       6\n",
       "4       3\n",
       "11      2\n",
       "9       1\n",
       "8       1\n",
       "Name: orders_number, dtype: int64"
      ]
     },
     "execution_count": 30,
     "metadata": {},
     "output_type": "execute_result"
    }
   ],
   "source": [
    "orders_n['orders_number'].value_counts()"
   ]
  },
  {
   "cell_type": "markdown",
   "metadata": {},
   "source": [
    "#### Вывод:\n",
    "Большинство пользователей (~91%) сделали 1(один) заказ."
   ]
  },
  {
   "cell_type": "markdown",
   "metadata": {},
   "source": [
    "### <a id=\"percentile_orders\">8. 95-й и 99-й перцентили количества заказов на пользователя</a>\n",
    "[Вернуться к оглавлению](#content_2)"
   ]
  },
  {
   "cell_type": "code",
   "execution_count": 31,
   "metadata": {
    "ExecuteTime": {
     "end_time": "2020-11-20T07:55:26.839127Z",
     "start_time": "2020-11-20T07:55:26.829462Z"
    }
   },
   "outputs": [
    {
     "data": {
      "text/plain": [
       "array([2., 3., 4.])"
      ]
     },
     "execution_count": 31,
     "metadata": {},
     "output_type": "execute_result"
    }
   ],
   "source": [
    "#считаем перцентили через numpy\n",
    "np.percentile(orders_n['orders_number'], [95, 97.5, 99])"
   ]
  },
  {
   "cell_type": "markdown",
   "metadata": {},
   "source": [
    "#### Вывод:\n",
    "95-й перцентиль равен двум, 99-й перцентиль равен 4. \n",
    "Примем, что аномальным количеством заказов будет значение, равное или больше 3."
   ]
  },
  {
   "cell_type": "markdown",
   "metadata": {},
   "source": [
    "### <a id=\"scatter_revenue\">9. Точечный график стоимости заказов</a>\n",
    "[Вернуться к оглавлению](#content_2)"
   ]
  },
  {
   "cell_type": "code",
   "execution_count": 32,
   "metadata": {
    "ExecuteTime": {
     "end_time": "2020-11-20T07:55:29.796220Z",
     "start_time": "2020-11-20T07:55:29.435481Z"
    }
   },
   "outputs": [
    {
     "data": {
      "image/png": "[encoded data removed]",
      "text/plain": [
       "<Figure size 432x288 with 1 Axes>"
      ]
     },
     "metadata": {
      "needs_background": "light"
     },
     "output_type": "display_data"
    }
   ],
   "source": [
    "#строим точечный график распределения стоимости заказов\n",
    "\n",
    "plt.scatter(orders.index, orders['revenue'])\n",
    "plt.show()"
   ]
  },
  {
   "cell_type": "code",
   "execution_count": 33,
   "metadata": {
    "ExecuteTime": {
     "end_time": "2020-11-20T07:55:35.007610Z",
     "start_time": "2020-11-20T07:55:34.730841Z"
    }
   },
   "outputs": [
    {
     "data": {
      "image/png": "[encoded data removed]",
      "text/plain": [
       "<Figure size 432x288 with 1 Axes>"
      ]
     },
     "metadata": {
      "needs_background": "light"
     },
     "output_type": "display_data"
    }
   ],
   "source": [
    "#строим точечный график распределения стоимости заказов для заказов меньше 200 тысяч (для наглядности)\n",
    "\n",
    "x_values = pd.Series(range(0,len(orders[orders['revenue'] < 200000]['revenue'])))\n",
    "plt.scatter(x_values, orders[orders['revenue'] < 200000]['revenue'])\n",
    "plt.show()"
   ]
  },
  {
   "cell_type": "markdown",
   "metadata": {},
   "source": [
    "#### Вывод:\n",
    "Есть один заказ стоимостью больше 1,2 млн и еще один заказ стоимостью примерно в 200 тысяч, которые определенно сильно влияют на конверсию и средний чек.\n",
    "На втором графике видно, что стоимость большинства заказов не превышает 20 тысяч."
   ]
  },
  {
   "cell_type": "markdown",
   "metadata": {},
   "source": [
    "### <a id=\"percentile_revenue\">10. 95-й и 99-й перцентили стоимости заказов</a>\n",
    "[Вернуться к оглавлению](#content_2)"
   ]
  },
  {
   "cell_type": "code",
   "execution_count": 34,
   "metadata": {
    "ExecuteTime": {
     "end_time": "2020-11-20T07:55:45.742317Z",
     "start_time": "2020-11-20T07:55:45.733868Z"
    }
   },
   "outputs": [
    {
     "data": {
      "text/plain": [
       "array([28000. , 39530. , 58233.2])"
      ]
     },
     "execution_count": 34,
     "metadata": {},
     "output_type": "execute_result"
    }
   ],
   "source": [
    "#считаем перцентили\n",
    "np.percentile(orders['revenue'], [95, 97.5, 99])"
   ]
  },
  {
   "cell_type": "markdown",
   "metadata": {},
   "source": [
    "#### Вывод:\n",
    "95-й перцентиль равен 28000, 99-й перцентиль равен 58233.2. \n",
    "Примем 40000 в качестве границы аномальных значений."
   ]
  },
  {
   "cell_type": "markdown",
   "metadata": {},
   "source": [
    "### <a id=\"stat_conversion\">11. Статистическая значимость различий в конверсии между группами по «сырым» данным</a>\n",
    "[Вернуться к оглавлению](#content_2)"
   ]
  },
  {
   "cell_type": "code",
   "execution_count": 35,
   "metadata": {
    "ExecuteTime": {
     "end_time": "2020-11-20T07:55:56.774985Z",
     "start_time": "2020-11-20T07:55:56.756116Z"
    }
   },
   "outputs": [],
   "source": [
    "#создаем список всех пользователей группы А с количеством сделанных заказов\n",
    "sample_a = pd.concat(\n",
    "    [orders_n[orders_n['group'] == 'A']['orders_number'], \\\n",
    "     pd.Series(0, index=np.arange(visitors[visitors['group'] == 'A']['visitors'].sum()\\\n",
    "                                  - len(orders_n[orders_n['group'] == 'A'])), name='orders')], axis = 0)"
   ]
  },
  {
   "cell_type": "code",
   "execution_count": 36,
   "metadata": {
    "ExecuteTime": {
     "end_time": "2020-11-20T07:55:59.560559Z",
     "start_time": "2020-11-20T07:55:59.548811Z"
    }
   },
   "outputs": [],
   "source": [
    "#создаем список всех пользователей группы В с количеством сделанных заказов\n",
    "sample_b = pd.concat(\n",
    "    [orders_n[orders_n['group'] == 'B']['orders_number'], \\\n",
    "     pd.Series(0, index=np.arange(visitors[visitors['group'] == 'B']['visitors'].sum()\\\n",
    "                                  - len(orders_n[orders_n['group'] == 'B'])), name='orders')], axis = 0)"
   ]
  },
  {
   "cell_type": "markdown",
   "metadata": {},
   "source": [
    "Нулевая гипотеза:\n",
    "конверсии группы А и группы В равны.\n",
    "\n",
    "Альтернативная гипотеза: \n",
    "конверсии групп А и В отличаются."
   ]
  },
  {
   "cell_type": "code",
   "execution_count": 37,
   "metadata": {
    "ExecuteTime": {
     "end_time": "2020-11-20T07:56:01.577894Z",
     "start_time": "2020-11-20T07:56:01.561225Z"
    }
   },
   "outputs": [],
   "source": [
    "#считаем статистическую значимость\n",
    "\n",
    "a = 0.05\n",
    "p_value = stats.mannwhitneyu(sample_a, sample_b)[1]"
   ]
  },
  {
   "cell_type": "code",
   "execution_count": 38,
   "metadata": {
    "ExecuteTime": {
     "end_time": "2020-11-20T07:56:12.194448Z",
     "start_time": "2020-11-20T07:56:12.186463Z"
    },
    "scrolled": true
   },
   "outputs": [
    {
     "name": "stdout",
     "output_type": "stream",
     "text": [
      "Относительный прирост конверсии группы B: -0.164\n"
     ]
    }
   ],
   "source": [
    "#считаем относительное различие конверсии\n",
    "print('Относительный прирост конверсии группы B:', '{0:.3f}'.format(sample_b.mean() / sample_a.mean() - 1))"
   ]
  },
  {
   "cell_type": "code",
   "execution_count": 39,
   "metadata": {},
   "outputs": [
    {
     "name": "stdout",
     "output_type": "stream",
     "text": [
      "p-value = 0.281\n",
      "Не отвергаем нулевую гиотпезу\n"
     ]
    }
   ],
   "source": [
    "print('p-value =', '{0:.3f}'.format(p_value))\n",
    "if p_value > a:\n",
    "    print('Не отвергаем нулевую гиотпезу')\n",
    "else:\n",
    "    print('Отвергаем нулевую гиотпезу')"
   ]
  },
  {
   "cell_type": "markdown",
   "metadata": {},
   "source": [
    "### <a id=\"stat_revenue\">12. Статистическая значимость различий в среднем чеке заказа между группами по «сырым» данным</a>\n",
    "[Вернуться к оглавлению](#content_2)"
   ]
  },
  {
   "cell_type": "markdown",
   "metadata": {},
   "source": [
    "Нулевая гипотеза: средний чек групп А и В одинаковый. \n",
    "\n",
    "Альтернативная гипотеза: средний чек групп А и В отличается."
   ]
  },
  {
   "cell_type": "code",
   "execution_count": 40,
   "metadata": {
    "ExecuteTime": {
     "end_time": "2020-11-20T07:56:14.167896Z",
     "start_time": "2020-11-20T07:56:14.154156Z"
    }
   },
   "outputs": [],
   "source": [
    "#считаем статистическую значимость\n",
    "p_value = stats.mannwhitneyu(orders[orders['group'] == 'A']['revenue'], orders[orders['group'] == 'B']['revenue'])[1]"
   ]
  },
  {
   "cell_type": "code",
   "execution_count": 41,
   "metadata": {
    "ExecuteTime": {
     "end_time": "2020-11-20T07:56:14.602319Z",
     "start_time": "2020-11-20T07:56:14.590846Z"
    }
   },
   "outputs": [
    {
     "name": "stdout",
     "output_type": "stream",
     "text": [
      "Относительное различие среднего чека группы В: 0.259\n"
     ]
    }
   ],
   "source": [
    "#считаем относительное различие среднего чека\n",
    "print('Относительное различие среднего чека группы В:', '{0:.3f}'.format(orders[orders['group'] == 'B']['revenue'].mean() / \n",
    "                                                                    orders[orders['group'] == 'A']['revenue'].mean() - 1))"
   ]
  },
  {
   "cell_type": "code",
   "execution_count": 42,
   "metadata": {},
   "outputs": [
    {
     "name": "stdout",
     "output_type": "stream",
     "text": [
      "p-value = 0.365\n",
      "Не отвергаем нулевую гиотпезу\n"
     ]
    }
   ],
   "source": [
    "print('p-value =', '{0:.3f}'.format(p_value))\n",
    "if p_value > a:\n",
    "    print('Не отвергаем нулевую гиотпезу')\n",
    "else:\n",
    "    print('Отвергаем нулевую гиотпезу')"
   ]
  },
  {
   "cell_type": "markdown",
   "metadata": {},
   "source": [
    "### <a id=\"stat_conversion_clean\">13. Статистическая значимость различий в конверсии между группами по «очищенным» данным</a>\n",
    "[Вернуться к оглавлению](#content_2)"
   ]
  },
  {
   "cell_type": "code",
   "execution_count": 43,
   "metadata": {
    "ExecuteTime": {
     "end_time": "2020-11-20T07:56:16.008025Z",
     "start_time": "2020-11-20T07:56:15.995553Z"
    }
   },
   "outputs": [],
   "source": [
    "#создаем список id пользователей, проявивших аномальное поведение в заказах\n",
    "\n",
    "abnormal_users = pd.concat([orders_n[orders_n['orders_number'] >=3]['visitor_id'], \n",
    "                            orders[orders['revenue'] >=39530]['visitor_id']]).drop_duplicates()"
   ]
  },
  {
   "cell_type": "code",
   "execution_count": 44,
   "metadata": {
    "ExecuteTime": {
     "end_time": "2020-11-20T07:56:16.538940Z",
     "start_time": "2020-11-20T07:56:16.532145Z"
    }
   },
   "outputs": [],
   "source": [
    "#убираем выбросы из таблицы с количеством покупок на каждого пользователя\n",
    "\n",
    "f_orders = orders_n[~orders_n['visitor_id'].isin(abnormal_users)]"
   ]
  },
  {
   "cell_type": "code",
   "execution_count": 45,
   "metadata": {
    "ExecuteTime": {
     "end_time": "2020-11-20T07:56:17.128315Z",
     "start_time": "2020-11-20T07:56:17.117000Z"
    }
   },
   "outputs": [],
   "source": [
    "#создаем список всех пользователей группы А с количеством сделанных заказов без выбросов\n",
    "f_sample_a = pd.concat(\n",
    "    [f_orders[f_orders['group'] == 'A']['orders_number'], \\\n",
    "     pd.Series(0, index=np.arange(visitors[visitors['group'] == 'A']['visitors'].sum()\\\n",
    "                                  - len(f_orders[f_orders['group'] == 'A'])), name='orders')], axis = 0)"
   ]
  },
  {
   "cell_type": "code",
   "execution_count": 46,
   "metadata": {
    "ExecuteTime": {
     "end_time": "2020-11-20T07:56:17.668589Z",
     "start_time": "2020-11-20T07:56:17.651791Z"
    }
   },
   "outputs": [],
   "source": [
    "#создаем список всех пользователей группы А с количеством сделанных заказов без выбросов\n",
    "f_sample_b = pd.concat(\n",
    "    [f_orders[f_orders['group'] == 'B']['orders_number'], \\\n",
    "     pd.Series(0, index=np.arange(visitors[visitors['group'] == 'B']['visitors'].sum()\\\n",
    "                                  - len(f_orders[f_orders['group'] == 'B'])), name='orders')], axis = 0)"
   ]
  },
  {
   "cell_type": "markdown",
   "metadata": {},
   "source": [
    "Нулевая гипотеза:\n",
    "конверсии групп А и В без выбросов равны.\n",
    "\n",
    "Альтернативная гипотеза: \n",
    "конверсии групп А и В без выбросов отличаются."
   ]
  },
  {
   "cell_type": "code",
   "execution_count": 47,
   "metadata": {
    "ExecuteTime": {
     "end_time": "2020-11-20T07:56:18.763632Z",
     "start_time": "2020-11-20T07:56:18.752175Z"
    }
   },
   "outputs": [],
   "source": [
    "#считаем статистическую значимость\n",
    "p_value = stats.mannwhitneyu(f_sample_a, f_sample_b)[1]"
   ]
  },
  {
   "cell_type": "code",
   "execution_count": 48,
   "metadata": {
    "ExecuteTime": {
     "end_time": "2020-11-20T07:56:19.476844Z",
     "start_time": "2020-11-20T07:56:19.470431Z"
    },
    "scrolled": true
   },
   "outputs": [
    {
     "name": "stdout",
     "output_type": "stream",
     "text": [
      "Относительный прирост конверсии группы B: 0.052\n"
     ]
    }
   ],
   "source": [
    "#считаем относительное различие конверсии\n",
    "print('Относительный прирост конверсии группы B:', '{0:.3f}'.format(f_sample_b.mean() / f_sample_a.mean() - 1))"
   ]
  },
  {
   "cell_type": "code",
   "execution_count": 49,
   "metadata": {},
   "outputs": [
    {
     "name": "stdout",
     "output_type": "stream",
     "text": [
      "p-value = 0.041\n",
      "Отвергаем нулевую гиотпезу\n"
     ]
    }
   ],
   "source": [
    "print('p-value =', '{0:.3f}'.format(p_value))\n",
    "if p_value > a:\n",
    "    print('Не отвергаем нулевую гиотпезу')\n",
    "else:\n",
    "    print('Отвергаем нулевую гиотпезу')"
   ]
  },
  {
   "cell_type": "markdown",
   "metadata": {},
   "source": [
    "### <a id=\"stat_revenue_clean\">13. Статистическая значимость различий в среднем чеке заказа между группами по «очищенным» данным</a>\n",
    "[Вернуться к оглавлению](#content_2)"
   ]
  },
  {
   "cell_type": "markdown",
   "metadata": {},
   "source": [
    "Нулевая гипотеза: средний чек групп А и В без выбросов одинаковый. \n",
    "\n",
    "Альтернативная гипотеза: средний чек групп А и В без выбросов отличается."
   ]
  },
  {
   "cell_type": "code",
   "execution_count": 50,
   "metadata": {
    "ExecuteTime": {
     "end_time": "2020-11-20T07:56:21.931587Z",
     "start_time": "2020-11-20T07:56:21.914647Z"
    }
   },
   "outputs": [],
   "source": [
    "#считаем статистическую значимость\n",
    "p_value = stats.mannwhitneyu(\n",
    "    orders[(~orders['visitor_id'].isin(abnormal_users)) & (orders['group'] == 'B')]['revenue'], \n",
    "    orders[(~orders['visitor_id'].isin(abnormal_users)) & (orders['group'] == 'A')]['revenue'])[1]"
   ]
  },
  {
   "cell_type": "code",
   "execution_count": 51,
   "metadata": {
    "ExecuteTime": {
     "end_time": "2020-11-20T07:56:22.684872Z",
     "start_time": "2020-11-20T07:56:22.669717Z"
    },
    "scrolled": true
   },
   "outputs": [
    {
     "name": "stdout",
     "output_type": "stream",
     "text": [
      "Относительное различие среднего чека группы В: 0.069\n"
     ]
    }
   ],
   "source": [
    "#считаем относительное различие среднего чека\n",
    "\n",
    "print('Относительное различие среднего чека группы В:', '{0:.3f}'.format(\n",
    "    orders[(~orders['visitor_id'].isin(abnormal_users)) & (orders['group'] == 'B')]['revenue'].mean() /\n",
    "    orders[(~orders['visitor_id'].isin(abnormal_users)) & (orders['group'] == 'A')]['revenue'].mean() - 1))"
   ]
  },
  {
   "cell_type": "code",
   "execution_count": 52,
   "metadata": {},
   "outputs": [
    {
     "name": "stdout",
     "output_type": "stream",
     "text": [
      "p-value = 0.450\n",
      "Не отвергаем нулевую гиотпезу\n"
     ]
    }
   ],
   "source": [
    "print('p-value =', '{0:.3f}'.format(p_value))\n",
    "if p_value > a:\n",
    "    print('Не отвергаем нулевую гиотпезу')\n",
    "else:\n",
    "    print('Отвергаем нулевую гиотпезу')"
   ]
  },
  {
   "cell_type": "markdown",
   "metadata": {},
   "source": [
    "### <a id=\"conclusion_2\">15. Вывод</a>\n",
    "[Вернуться к оглавлению](#content_2)\n",
    "\n",
    "В данных до очищения не было статистической значимости ни в конверсии, ни в средних чеках. После удаления выбросов оказалось, что есть статистически значимые различия в конверсии, но не в средних чеках. \n",
    "\n",
    "Принимаем решение прекратить тест, зафиксировать победу группы В."
   ]
  }
 ],
 "metadata": {
  "kernelspec": {
   "display_name": "Python 3",
   "language": "python",
   "name": "python3"
  },
  "language_info": {
   "codemirror_mode": {
    "name": "ipython",
    "version": 3
   },
   "file_extension": ".py",
   "mimetype": "text/x-python",
   "name": "python",
   "nbconvert_exporter": "python",
   "pygments_lexer": "ipython3",
   "version": "3.7.6"
  },
  "toc": {
   "base_numbering": 1,
   "nav_menu": {},
   "number_sections": true,
   "sideBar": true,
   "skip_h1_title": true,
   "title_cell": "Table of Contents",
   "title_sidebar": "Contents",
   "toc_cell": false,
   "toc_position": {},
   "toc_section_display": true,
   "toc_window_display": false
  }
 },
 "nbformat": 4,
 "nbformat_minor": 2
}
